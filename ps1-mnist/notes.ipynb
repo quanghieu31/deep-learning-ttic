{
 "cells": [
  {
   "cell_type": "code",
   "execution_count": 4,
   "metadata": {},
   "outputs": [
    {
     "ename": "NameError",
     "evalue": "name 'ynode' is not defined",
     "output_type": "error",
     "traceback": [
      "\u001b[1;31m---------------------------------------------------------------------------\u001b[0m",
      "\u001b[1;31mNameError\u001b[0m                                 Traceback (most recent call last)",
      "Cell \u001b[1;32mIn[4], line 38\u001b[0m\n\u001b[0;32m     35\u001b[0m softmax \u001b[38;5;241m=\u001b[39m edf\u001b[38;5;241m.\u001b[39mSoftmax(output_layer)\n\u001b[0;32m     37\u001b[0m \u001b[38;5;66;03m# Create log loss node\u001b[39;00m\n\u001b[1;32m---> 38\u001b[0m lossnode \u001b[38;5;241m=\u001b[39m edf\u001b[38;5;241m.\u001b[39mLogLoss(softmax, \u001b[43mynode\u001b[49m)  \u001b[38;5;66;03m# Using softmax probabilities and true labels\u001b[39;00m\n\u001b[0;32m     40\u001b[0m \u001b[38;5;66;03m# Forward pass\u001b[39;00m\n\u001b[0;32m     41\u001b[0m edf\u001b[38;5;241m.\u001b[39mForward()\n",
      "\u001b[1;31mNameError\u001b[0m: name 'ynode' is not defined"
     ]
    }
   ],
   "source": [
    "import numpy as np\n",
    "import edf\n",
    "\n",
    "# Define the number of features and classes\n",
    "num_features = 3\n",
    "num_classes = 2\n",
    "num_samples = 2  # Number of samples in the batch\n",
    "\n",
    "# Generate synthetic input data (2 samples, 3 features)\n",
    "x_data = np.array([[0.1, 0.2, 0.3], \n",
    "                   [0.4, 0.5, 0.6]], dtype=np.float32)  # Shape: (2, 3)\n",
    "\n",
    "# Define true labels (0 or 1 for each sample)\n",
    "y_data = np.array([0, 1], dtype=np.int32)  # Shape: (2,)\n",
    "\n",
    "# Set up the computation graph\n",
    "edf.clear_compgraph()\n",
    "\n",
    "# Create input node\n",
    "xnode = edf.Input()\n",
    "ynode \n",
    "xnode.value = x_data\n",
    "\n",
    "# Create weights and biases for the hidden layer\n",
    "hidden_layer_params = edf.AffineParams(nInputs=num_features, nOutputs=4)  # 4 neurons in hidden layer\n",
    "hidden_layer = edf.Affine(hidden_layer_params, xnode)\n",
    "\n",
    "# Apply sigmoid activation\n",
    "sigmoid = edf.Sigmoid(hidden_layer)\n",
    "\n",
    "# Create weights and biases for the output layer\n",
    "output_layer_params = edf.AffineParams(nInputs=4, nOutputs=num_classes)  # 2 classes in output layer\n",
    "output_layer = edf.Affine(output_layer_params, sigmoid)\n",
    "\n",
    "# Apply softmax activation\n",
    "softmax = edf.Softmax(output_layer)\n",
    "\n",
    "# Create log loss node\n",
    "lossnode = edf.LogLoss(softmax, ynode)  # Using softmax probabilities and true labels\n",
    "\n",
    "# Forward pass\n",
    "edf.Forward()\n",
    "\n",
    "# Output predicted probabilities\n",
    "print(\"Predicted Probabilities:\")\n",
    "print(softmax.value)\n",
    "\n",
    "# Compute the loss\n",
    "print(\"Loss:\")\n",
    "print(lossnode.value)\n",
    "\n",
    "# Backward pass\n",
    "edf.Backward(lossnode)\n",
    "\n",
    "# Update parameters\n",
    "edf.SGD()\n",
    "\n",
    "# Print updated weights and biases\n",
    "print(\"Updated Weights (Hidden Layer):\")\n",
    "print(hidden_layer_params.w.value)\n",
    "print(\"Updated Biases (Hidden Layer):\")\n",
    "print(hidden_layer_params.b.value)\n",
    "\n",
    "print(\"Updated Weights (Output Layer):\")\n",
    "print(output_layer_params.w.value)\n",
    "print(\"Updated Biases (Output Layer):\")\n",
    "print(output_layer_params.b.value)\n"
   ]
  }
 ],
 "metadata": {
  "kernelspec": {
   "display_name": "ps1-venv",
   "language": "python",
   "name": "python3"
  },
  "language_info": {
   "codemirror_mode": {
    "name": "ipython",
    "version": 3
   },
   "file_extension": ".py",
   "mimetype": "text/x-python",
   "name": "python",
   "nbconvert_exporter": "python",
   "pygments_lexer": "ipython3",
   "version": "3.11.4"
  }
 },
 "nbformat": 4,
 "nbformat_minor": 2
}
